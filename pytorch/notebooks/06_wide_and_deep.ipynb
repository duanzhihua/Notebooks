{
 "nbformat": 4,
 "nbformat_minor": 2,
 "metadata": {
  "language_info": {
   "name": "python",
   "codemirror_mode": {
    "name": "ipython",
    "version": 3
   },
   "version": "3.7.6-final"
  },
  "orig_nbformat": 2,
  "file_extension": ".py",
  "mimetype": "text/x-python",
  "name": "python",
  "npconvert_exporter": "python",
  "pygments_lexer": "ipython3",
  "version": 3,
  "kernelspec": {
   "name": "pytorch_notebooks",
   "display_name": "pytorch_notebooks"
  }
 },
 "cells": [
  {
   "cell_type": "markdown",
   "metadata": {},
   "source": [
    "# Wide and deep neural networks"
   ]
  },
  {
   "cell_type": "markdown",
   "metadata": {},
   "source": [
    "## Load diabetes dataset"
   ]
  },
  {
   "cell_type": "code",
   "execution_count": 1,
   "metadata": {},
   "outputs": [
    {
     "data": {
      "text/plain": "'-rw-r--r--  1 Neo  staff  53438 Mar 11 14:35 data/diabetes.csv'"
     },
     "execution_count": 1,
     "metadata": {},
     "output_type": "execute_result"
    }
   ],
   "source": [
    "# make sure we have our data file available\n",
    "import os\n",
    "os.popen('ls -l data/*').read().strip()\n",
    "# filename = os.popen('ls -l data/*').read().strip().split('/')[1]"
   ]
  },
  {
   "cell_type": "code",
   "execution_count": 3,
   "metadata": {},
   "outputs": [
    {
     "name": "stdout",
     "output_type": "stream",
     "text": "number of records:  759\n"
    }
   ],
   "source": [
    "print(\"number of records: \", os.popen('cat data/diabetes.csv | wc -l').read().strip())\n"
   ]
  },
  {
   "cell_type": "code",
   "execution_count": 2,
   "metadata": {},
   "outputs": [
    {
     "name": "stdout",
     "output_type": "stream",
     "text": "Data sample:  \n -0.294118,0.487437,0.180328,-0.292929,0,0.00149028,-0.53117,-0.0333333,0\n-0.882353,-0.145729,0.0819672,-0.414141,0,-0.207153,-0.766866,-0.666667,1\n-0.0588235,0.839196,0.0491803,0,0,-0.305514,-0.492741,-0.633333,0\n-0.882353,-0.105528,0.0819672,-0.535354,-0.777778,-0.162444,-0.923997,0,1\n0,0.376884,-0.344262,-0.292929,-0.602837,0.28465,0.887276,-0.6,0\n"
    }
   ],
   "source": [
    "print(\"Data sample: \", \"\\n\", os.popen('head -n 5 data/diabetes.csv').read().strip())"
   ]
  },
  {
   "cell_type": "code",
   "execution_count": 4,
   "metadata": {},
   "outputs": [],
   "source": [
    "# FIXME: use this piece of code to preview the data nicely\n",
    "# import tabulate\n",
    "# with open('data/diabetes.csv') as inf:\n",
    "#     print(tabulate(inf, headers=\"firstrow\"))"
   ]
  },
  {
   "cell_type": "code",
   "execution_count": 5,
   "metadata": {},
   "outputs": [],
   "source": [
    "import numpy as np\n",
    "xy = np.loadtxt('data/diabetes.csv', delimiter=',', dtype=np.float32)"
   ]
  },
  {
   "cell_type": "code",
   "execution_count": 6,
   "metadata": {},
   "outputs": [],
   "source": [
    "import torch\n",
    "from torch.autograd import Variable"
   ]
  },
  {
   "cell_type": "code",
   "execution_count": 7,
   "metadata": {},
   "outputs": [
    {
     "name": "stdout",
     "output_type": "stream",
     "text": "x_data shape: \n torch.Size([759, 8])\nfirst five rows: \n tensor([[-0.2941,  0.4874,  0.1803, -0.2929,  0.0000,  0.0015, -0.5312, -0.0333],\n        [-0.8824, -0.1457,  0.0820, -0.4141,  0.0000, -0.2072, -0.7669, -0.6667],\n        [-0.0588,  0.8392,  0.0492,  0.0000,  0.0000, -0.3055, -0.4927, -0.6333],\n        [-0.8824, -0.1055,  0.0820, -0.5354, -0.7778, -0.1624, -0.9240,  0.0000],\n        [ 0.0000,  0.3769, -0.3443, -0.2929, -0.6028,  0.2846,  0.8873, -0.6000]])\n"
    }
   ],
   "source": [
    "x_data = Variable(torch.Tensor(torch.from_numpy(xy[:, 0:-1])))\n",
    "print(\"x_data shape: \\n\", x_data.size())\n",
    "# print first 5 rows\n",
    "print(\"first five rows: \\n\", x_data[0:5])"
   ]
  },
  {
   "cell_type": "code",
   "execution_count": 8,
   "metadata": {},
   "outputs": [
    {
     "name": "stdout",
     "output_type": "stream",
     "text": "y_data shape: \n torch.Size([759, 1])\nfirst five rows: \n tensor([[0.],\n        [1.],\n        [0.],\n        [1.],\n        [0.]])\n"
    }
   ],
   "source": [
    "y_data = Variable(torch.Tensor(torch.from_numpy(xy[:, [-1]])))\n",
    "print(\"y_data shape: \\n\", y_data.size())\n",
    "# print first 5 rows\n",
    "print(\"first five rows: \\n\", y_data[0:5])"
   ]
  },
  {
   "cell_type": "markdown",
   "metadata": {},
   "source": [
    "## Define Model"
   ]
  },
  {
   "cell_type": "code",
   "execution_count": 15,
   "metadata": {},
   "outputs": [],
   "source": [
    "class DiabetesPredictionModel(torch.nn.Module):\n",
    "    \"\"\"Some Information about DiabetesPredictionModel\"\"\"\n",
    "    def __init__(self):\n",
    "        super(DiabetesPredictionModel, self).__init__()\n",
    "        self.l1 = torch.nn.Linear(8, 6)\n",
    "        self.l2 = torch.nn.Linear(6, 4)\n",
    "        self.l3 = torch.nn.Linear(4, 1)\n",
    "        self.sigmoid = torch.nn.Sigmoid()\n",
    "\n",
    "    def forward(self, x):\n",
    "        # Model architecture:\n",
    "        # x----[l1]---[sig]---[l2]---[sig]---[l3]---[sig]---y_hat\n",
    "        #                  |              | .             |\n",
    "        #                 o1 .           o2 .            o3\n",
    "\n",
    "        out1 = self.sigmoid(self.l1(x))\n",
    "        out2 = self.sigmoid(self.l2(out1))\n",
    "        y_pred = self.sigmoid(self.l3(out2))\n",
    "\n",
    "        return y_pred"
   ]
  },
  {
   "cell_type": "code",
   "execution_count": 16,
   "metadata": {},
   "outputs": [],
   "source": [
    "diabetes_prediction_model = DiabetesPredictionModel()"
   ]
  },
  {
   "cell_type": "markdown",
   "metadata": {},
   "source": [
    "## Define Loss and Optimisation algorithm"
   ]
  },
  {
   "cell_type": "code",
   "execution_count": 21,
   "metadata": {},
   "outputs": [],
   "source": [
    "criterion = torch.nn.BCELoss(size_average=True)"
   ]
  },
  {
   "cell_type": "code",
   "execution_count": 22,
   "metadata": {},
   "outputs": [],
   "source": [
    "learning_rate = 0.1\n",
    "optimiser = torch.optim.SGD(diabetes_prediction_model.parameters(), lr=learning_rate)"
   ]
  },
  {
   "cell_type": "markdown",
   "metadata": {},
   "source": [
    "## Training loop"
   ]
  },
  {
   "cell_type": "code",
   "execution_count": 23,
   "metadata": {},
   "outputs": [
    {
     "name": "stdout",
     "output_type": "stream",
     "text": "0 0.6450392007827759\n1 0.645038902759552\n2 0.6450377702713013\n3 0.6450371146202087\n4 0.6450362801551819\n5 0.6450356841087341\n6 0.6450350880622864\n7 0.6450344920158386\n8 0.6450337171554565\n9 0.6450329422950745\n10 0.6450326442718506\n11 0.6450315713882446\n12 0.6450310945510864\n13 0.6450303792953491\n14 0.6450300216674805\n15 0.6450293064117432\n16 0.6450287699699402\n17 0.6450280547142029\n18 0.6450275182723999\n19 0.6450267434120178\n20 0.6450260281562805\n21 0.6450254917144775\n22 0.6450248956680298\n23 0.645024299621582\n24 0.6450236439704895\n25 0.645022451877594\n26 0.6450213193893433\n27 0.6450207829475403\n28 0.6450202465057373\n29 0.6450196504592896\n30 0.6450187563896179\n31 0.6450176239013672\n32 0.6450172662734985\n33 0.6450169086456299\n34 0.6450163722038269\n35 0.6450157761573792\n36 0.6450150609016418\n37 0.6450144052505493\n38 0.645013689994812\n39 0.6450128555297852\n40 0.6450120806694031\n41 0.645011305809021\n42 0.6450103521347046\n43 0.6450096368789673\n44 0.6450091004371643\n45 0.6450085043907166\n46 0.6450080275535583\n47 0.6450072526931763\n48 0.6450065970420837\n49 0.6450061202049255\n50 0.645005464553833\n51 0.6450046300888062\n52 0.6450039148330688\n53 0.6450033187866211\n54 0.6450026631355286\n55 0.6450020670890808\n56 0.6450012922286987\n57 0.6450001001358032\n58 0.6449995636940002\n59 0.644999086856842\n60 0.6449984312057495\n61 0.6449980139732361\n62 0.6449974775314331\n63 0.6449967622756958\n64 0.6449957489967346\n65 0.6449950337409973\n66 0.6449943780899048\n67 0.6449939012527466\n68 0.6449933052062988\n69 0.6449925899505615\n70 0.6449915170669556\n71 0.6449909210205078\n72 0.644990086555481\n73 0.6449894309043884\n74 0.6449887156486511\n75 0.6449881792068481\n76 0.6449875831604004\n77 0.6449865102767944\n78 0.6449859142303467\n79 0.6449851989746094\n80 0.6449844837188721\n81 0.6449838876724243\n82 0.644983172416687\n83 0.6449828743934631\n84 0.6449822187423706\n85 0.6449814438819885\n86 0.6449806690216064\n87 0.6449799537658691\n88 0.6449791789054871\n89 0.6449785828590393\n90 0.6449778079986572\n91 0.644977331161499\n92 0.6449762582778931\n93 0.6449759602546692\n94 0.6449751257896423\n95 0.644974410533905\n96 0.6449735164642334\n97 0.6449728608131409\n98 0.6449722051620483\n99 0.644971489906311\n"
    }
   ],
   "source": [
    "for epoch in range(100):\n",
    "    # forward pass\n",
    "    y_pred = diabetes_prediction_model.forward(x_data)\n",
    "\n",
    "    # compute loss\n",
    "    loss = criterion(y_pred, y_data)\n",
    "    print(epoch, loss.data.item())\n",
    "\n",
    "    # backpropagation\n",
    "    optimiser.zero_grad()\n",
    "    loss.backward()\n",
    "    optimiser.step()"
   ]
  }
 ]
}