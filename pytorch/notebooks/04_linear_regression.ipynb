{
 "nbformat": 4,
 "nbformat_minor": 2,
 "metadata": {
  "language_info": {
   "name": "python",
   "codemirror_mode": {
    "name": "ipython",
    "version": 3
   },
   "version": "3.7.6-final"
  },
  "orig_nbformat": 2,
  "file_extension": ".py",
  "mimetype": "text/x-python",
  "name": "python",
  "npconvert_exporter": "python",
  "pygments_lexer": "ipython3",
  "version": 3,
  "kernelspec": {
   "name": "pytorch_notebooks",
   "display_name": "pytorch_notebooks"
  }
 },
 "cells": [
  {
   "cell_type": "markdown",
   "metadata": {},
   "source": [
    "## Part 1 - Model definition\n",
    "---"
   ]
  },
  {
   "cell_type": "code",
   "execution_count": 2,
   "metadata": {},
   "outputs": [],
   "source": [
    "import torch"
   ]
  },
  {
   "cell_type": "code",
   "execution_count": 4,
   "metadata": {},
   "outputs": [],
   "source": [
    "from torch.autograd import Variable"
   ]
  },
  {
   "cell_type": "code",
   "execution_count": 5,
   "metadata": {},
   "outputs": [
    {
     "name": "stdout",
     "output_type": "stream",
     "text": "tensor([[1.],\n        [2.],\n        [3.]])\ntensor([[2.],\n        [4.],\n        [6.]])\n"
    }
   ],
   "source": [
    "x_data = Variable(torch.Tensor([[1.0],[2.0],[3.0]]))\n",
    "y_data = Variable(torch.Tensor([[2.0],[4.0],[6.0]]))\n",
    "print(x_data)\n",
    "print(y_data)"
   ]
  },
  {
   "cell_type": "code",
   "execution_count": 7,
   "metadata": {},
   "outputs": [],
   "source": [
    "class LinearRegressionModel(torch.nn.Module):\n",
    "\n",
    "    def __init__(self):\n",
    "        super(LinearRegressionModel, self).__init__()\n",
    "        self.linear = torch.nn.Linear(1, 1) # one input -> one output\n",
    "    \n",
    "    def forward(self, x):\n",
    "        y_pred = self.linear(x)\n",
    "        return y_pred\n",
    "\n"
   ]
  },
  {
   "cell_type": "code",
   "execution_count": 8,
   "metadata": {},
   "outputs": [],
   "source": [
    "linear_model = LinearRegressionModel()"
   ]
  },
  {
   "cell_type": "markdown",
   "metadata": {},
   "source": [
    "## Part 2 - Loss function and Optimiser\n",
    "---"
   ]
  },
  {
   "cell_type": "markdown",
   "metadata": {},
   "source": [
    "Source: https://github.com/jcjohnson/pytorch-examples"
   ]
  },
  {
   "cell_type": "code",
   "execution_count": 11,
   "metadata": {},
   "outputs": [],
   "source": [
    "# loss function - Mean Square Error\n",
    "criterion = torch.nn.MSELoss(size_average=False)"
   ]
  },
  {
   "cell_type": "code",
   "execution_count": 17,
   "metadata": {},
   "outputs": [],
   "source": [
    "# optimiser - Stochastic Gradient Descent\n",
    "learning_rate = 0.01\n",
    "optimiser = torch.optim.SGD(linear_model.parameters(), lr=learning_rate)"
   ]
  },
  {
   "cell_type": "markdown",
   "metadata": {},
   "source": [
    "## Part 3 - Training loop"
   ]
  },
  {
   "cell_type": "code",
   "execution_count": 27,
   "metadata": {},
   "outputs": [
    {
     "name": "stdout",
     "output_type": "stream",
     "text": "prediction (before training:  4 tensor(-3.2897)\n"
    }
   ],
   "source": [
    "eval_var = Variable(torch.Tensor([[4.0]]))\n",
    "print(\"prediction (before training: \", 4, linear_model.forward(eval_var).data[0][0])"
   ]
  },
  {
   "cell_type": "code",
   "execution_count": 31,
   "metadata": {},
   "outputs": [
    {
     "name": "stdout",
     "output_type": "stream",
     "text": ")\ntensor([[2.0751],\n        [4.0161],\n        [5.9571]], grad_fn=<AddmmBackward>)\n298 tensor(0.0077)\ntensor([[2.0746],\n        [4.0160],\n        [5.9574]], grad_fn=<AddmmBackward>)\n299 tensor(0.0076)\ntensor([[2.0740],\n        [4.0159],\n        [5.9577]], grad_fn=<AddmmBackward>)\n300 tensor(0.0075)\ntensor([[2.0735],\n        [4.0158],\n        [5.9581]], grad_fn=<AddmmBackward>)\n301 tensor(0.0074)\ntensor([[2.0730],\n        [4.0157],\n        [5.9584]], grad_fn=<AddmmBackward>)\n302 tensor(0.0073)\ntensor([[2.0724],\n        [4.0155],\n        [5.9587]], grad_fn=<AddmmBackward>)\n303 tensor(0.0072)\ntensor([[2.0719],\n        [4.0154],\n        [5.9590]], grad_fn=<AddmmBackward>)\n304 tensor(0.0071)\ntensor([[2.0714],\n        [4.0153],\n        [5.9592]], grad_fn=<AddmmBackward>)\n305 tensor(0.0070)\ntensor([[2.0709],\n        [4.0152],\n        [5.9595]], grad_fn=<AddmmBackward>)\n306 tensor(0.0069)\ntensor([[2.0704],\n        [4.0151],\n        [5.9598]], grad_fn=<AddmmBackward>)\n307 tensor(0.0068)\ntensor([[2.0699],\n        [4.0150],\n        [5.9601]], grad_fn=<AddmmBackward>)\n308 tensor(0.0067)\ntensor([[2.0694],\n        [4.0149],\n        [5.9604]], grad_fn=<AddmmBackward>)\n309 tensor(0.0066)\ntensor([[2.0689],\n        [4.0148],\n        [5.9607]], grad_fn=<AddmmBackward>)\n310 tensor(0.0065)\ntensor([[2.0684],\n        [4.0147],\n        [5.9610]], grad_fn=<AddmmBackward>)\n311 tensor(0.0064)\ntensor([[2.0679],\n        [4.0146],\n        [5.9613]], grad_fn=<AddmmBackward>)\n312 tensor(0.0063)\ntensor([[2.0674],\n        [4.0145],\n        [5.9615]], grad_fn=<AddmmBackward>)\n313 tensor(0.0062)\ntensor([[2.0669],\n        [4.0144],\n        [5.9618]], grad_fn=<AddmmBackward>)\n314 tensor(0.0061)\ntensor([[2.0664],\n        [4.0143],\n        [5.9621]], grad_fn=<AddmmBackward>)\n315 tensor(0.0061)\ntensor([[2.0659],\n        [4.0141],\n        [5.9624]], grad_fn=<AddmmBackward>)\n316 tensor(0.0060)\ntensor([[2.0655],\n        [4.0140],\n        [5.9626]], grad_fn=<AddmmBackward>)\n317 tensor(0.0059)\ntensor([[2.0650],\n        [4.0139],\n        [5.9629]], grad_fn=<AddmmBackward>)\n318 tensor(0.0058)\ntensor([[2.0645],\n        [4.0138],\n        [5.9632]], grad_fn=<AddmmBackward>)\n319 tensor(0.0057)\ntensor([[2.0640],\n        [4.0137],\n        [5.9634]], grad_fn=<AddmmBackward>)\n320 tensor(0.0056)\ntensor([[2.0636],\n        [4.0136],\n        [5.9637]], grad_fn=<AddmmBackward>)\n321 tensor(0.0055)\ntensor([[2.0631],\n        [4.0135],\n        [5.9640]], grad_fn=<AddmmBackward>)\n322 tensor(0.0055)\ntensor([[2.0627],\n        [4.0134],\n        [5.9642]], grad_fn=<AddmmBackward>)\n323 tensor(0.0054)\ntensor([[2.0622],\n        [4.0134],\n        [5.9645]], grad_fn=<AddmmBackward>)\n324 tensor(0.0053)\ntensor([[2.0618],\n        [4.0133],\n        [5.9647]], grad_fn=<AddmmBackward>)\n325 tensor(0.0052)\ntensor([[2.0613],\n        [4.0132],\n        [5.9650]], grad_fn=<AddmmBackward>)\n326 tensor(0.0052)\ntensor([[2.0609],\n        [4.0131],\n        [5.9652]], grad_fn=<AddmmBackward>)\n327 tensor(0.0051)\ntensor([[2.0604],\n        [4.0130],\n        [5.9655]], grad_fn=<AddmmBackward>)\n328 tensor(0.0050)\ntensor([[2.0600],\n        [4.0129],\n        [5.9657]], grad_fn=<AddmmBackward>)\n329 tensor(0.0049)\ntensor([[2.0596],\n        [4.0128],\n        [5.9660]], grad_fn=<AddmmBackward>)\n330 tensor(0.0049)\ntensor([[2.0591],\n        [4.0127],\n        [5.9662]], grad_fn=<AddmmBackward>)\n331 tensor(0.0048)\ntensor([[2.0587],\n        [4.0126],\n        [5.9665]], grad_fn=<AddmmBackward>)\n332 tensor(0.0047)\ntensor([[2.0583],\n        [4.0125],\n        [5.9667]], grad_fn=<AddmmBackward>)\n333 tensor(0.0047)\ntensor([[2.0579],\n        [4.0124],\n        [5.9670]], grad_fn=<AddmmBackward>)\n334 tensor(0.0046)\ntensor([[2.0575],\n        [4.0123],\n        [5.9672]], grad_fn=<AddmmBackward>)\n335 tensor(0.0045)\ntensor([[2.0570],\n        [4.0122],\n        [5.9674]], grad_fn=<AddmmBackward>)\n336 tensor(0.0045)\ntensor([[2.0566],\n        [4.0122],\n        [5.9677]], grad_fn=<AddmmBackward>)\n337 tensor(0.0044)\ntensor([[2.0562],\n        [4.0121],\n        [5.9679]], grad_fn=<AddmmBackward>)\n338 tensor(0.0043)\ntensor([[2.0558],\n        [4.0120],\n        [5.9681]], grad_fn=<AddmmBackward>)\n339 tensor(0.0043)\ntensor([[2.0554],\n        [4.0119],\n        [5.9684]], grad_fn=<AddmmBackward>)\n340 tensor(0.0042)\ntensor([[2.0550],\n        [4.0118],\n        [5.9686]], grad_fn=<AddmmBackward>)\n341 tensor(0.0042)\ntensor([[2.0546],\n        [4.0117],\n        [5.9688]], grad_fn=<AddmmBackward>)\n342 tensor(0.0041)\ntensor([[2.0542],\n        [4.0116],\n        [5.9690]], grad_fn=<AddmmBackward>)\n343 tensor(0.0040)\ntensor([[2.0538],\n        [4.0116],\n        [5.9693]], grad_fn=<AddmmBackward>)\n344 tensor(0.0040)\ntensor([[2.0534],\n        [4.0115],\n        [5.9695]], grad_fn=<AddmmBackward>)\n345 tensor(0.0039)\ntensor([[2.0531],\n        [4.0114],\n        [5.9697]], grad_fn=<AddmmBackward>)\n346 tensor(0.0039)\ntensor([[2.0527],\n        [4.0113],\n        [5.9699]], grad_fn=<AddmmBackward>)\n347 tensor(0.0038)\ntensor([[2.0523],\n        [4.0112],\n        [5.9701]], grad_fn=<AddmmBackward>)\n348 tensor(0.0038)\ntensor([[2.0519],\n        [4.0111],\n        [5.9704]], grad_fn=<AddmmBackward>)\n349 tensor(0.0037)\ntensor([[2.0515],\n        [4.0111],\n        [5.9706]], grad_fn=<AddmmBackward>)\n350 tensor(0.0036)\ntensor([[2.0512],\n        [4.0110],\n        [5.9708]], grad_fn=<AddmmBackward>)\n351 tensor(0.0036)\ntensor([[2.0508],\n        [4.0109],\n        [5.9710]], grad_fn=<AddmmBackward>)\n352 tensor(0.0035)\ntensor([[2.0504],\n        [4.0108],\n        [5.9712]], grad_fn=<AddmmBackward>)\n353 tensor(0.0035)\ntensor([[2.0501],\n        [4.0107],\n        [5.9714]], grad_fn=<AddmmBackward>)\n354 tensor(0.0034)\ntensor([[2.0497],\n        [4.0107],\n        [5.9716]], grad_fn=<AddmmBackward>)\n355 tensor(0.0034)\ntensor([[2.0494],\n        [4.0106],\n        [5.9718]], grad_fn=<AddmmBackward>)\n356 tensor(0.0033)\ntensor([[2.0490],\n        [4.0105],\n        [5.9720]], grad_fn=<AddmmBackward>)\n357 tensor(0.0033)\ntensor([[2.0486],\n        [4.0104],\n        [5.9722]], grad_fn=<AddmmBackward>)\n358 tensor(0.0032)\ntensor([[2.0483],\n        [4.0104],\n        [5.9724]], grad_fn=<AddmmBackward>)\n359 tensor(0.0032)\ntensor([[2.0479],\n        [4.0103],\n        [5.9726]], grad_fn=<AddmmBackward>)\n360 tensor(0.0032)\ntensor([[2.0476],\n        [4.0102],\n        [5.9728]], grad_fn=<AddmmBackward>)\n361 tensor(0.0031)\ntensor([[2.0473],\n        [4.0101],\n        [5.9730]], grad_fn=<AddmmBackward>)\n362 tensor(0.0031)\ntensor([[2.0469],\n        [4.0101],\n        [5.9732]], grad_fn=<AddmmBackward>)\n363 tensor(0.0030)\ntensor([[2.0466],\n        [4.0100],\n        [5.9734]], grad_fn=<AddmmBackward>)\n364 tensor(0.0030)\ntensor([[2.0462],\n        [4.0099],\n        [5.9736]], grad_fn=<AddmmBackward>)\n365 tensor(0.0029)\ntensor([[2.0459],\n        [4.0099],\n        [5.9738]], grad_fn=<AddmmBackward>)\n366 tensor(0.0029)\ntensor([[2.0456],\n        [4.0098],\n        [5.9740]], grad_fn=<AddmmBackward>)\n367 tensor(0.0029)\ntensor([[2.0453],\n        [4.0097],\n        [5.9742]], grad_fn=<AddmmBackward>)\n368 tensor(0.0028)\ntensor([[2.0449],\n        [4.0096],\n        [5.9744]], grad_fn=<AddmmBackward>)\n369 tensor(0.0028)\ntensor([[2.0446],\n        [4.0096],\n        [5.9745]], grad_fn=<AddmmBackward>)\n370 tensor(0.0027)\ntensor([[2.0443],\n        [4.0095],\n        [5.9747]], grad_fn=<AddmmBackward>)\n371 tensor(0.0027)\ntensor([[2.0440],\n        [4.0094],\n        [5.9749]], grad_fn=<AddmmBackward>)\n372 tensor(0.0027)\ntensor([[2.0436],\n        [4.0094],\n        [5.9751]], grad_fn=<AddmmBackward>)\n373 tensor(0.0026)\ntensor([[2.0433],\n        [4.0093],\n        [5.9753]], grad_fn=<AddmmBackward>)\n374 tensor(0.0026)\ntensor([[2.0430],\n        [4.0092],\n        [5.9754]], grad_fn=<AddmmBackward>)\n375 tensor(0.0025)\ntensor([[2.0427],\n        [4.0092],\n        [5.9756]], grad_fn=<AddmmBackward>)\n376 tensor(0.0025)\ntensor([[2.0424],\n        [4.0091],\n        [5.9758]], grad_fn=<AddmmBackward>)\n377 tensor(0.0025)\ntensor([[2.0421],\n        [4.0090],\n        [5.9760]], grad_fn=<AddmmBackward>)\n378 tensor(0.0024)\ntensor([[2.0418],\n        [4.0090],\n        [5.9761]], grad_fn=<AddmmBackward>)\n379 tensor(0.0024)\ntensor([[2.0415],\n        [4.0089],\n        [5.9763]], grad_fn=<AddmmBackward>)\n380 tensor(0.0024)\ntensor([[2.0412],\n        [4.0088],\n        [5.9765]], grad_fn=<AddmmBackward>)\n381 tensor(0.0023)\ntensor([[2.0409],\n        [4.0088],\n        [5.9767]], grad_fn=<AddmmBackward>)\n382 tensor(0.0023)\ntensor([[2.0406],\n        [4.0087],\n        [5.9768]], grad_fn=<AddmmBackward>)\n383 tensor(0.0023)\ntensor([[2.0403],\n        [4.0086],\n        [5.9770]], grad_fn=<AddmmBackward>)\n384 tensor(0.0022)\ntensor([[2.0400],\n        [4.0086],\n        [5.9772]], grad_fn=<AddmmBackward>)\n385 tensor(0.0022)\ntensor([[2.0397],\n        [4.0085],\n        [5.9773]], grad_fn=<AddmmBackward>)\n386 tensor(0.0022)\ntensor([[2.0394],\n        [4.0085],\n        [5.9775]], grad_fn=<AddmmBackward>)\n387 tensor(0.0021)\ntensor([[2.0392],\n        [4.0084],\n        [5.9777]], grad_fn=<AddmmBackward>)\n388 tensor(0.0021)\ntensor([[2.0389],\n        [4.0083],\n        [5.9778]], grad_fn=<AddmmBackward>)\n389 tensor(0.0021)\ntensor([[2.0386],\n        [4.0083],\n        [5.9780]], grad_fn=<AddmmBackward>)\n390 tensor(0.0020)\ntensor([[2.0383],\n        [4.0082],\n        [5.9781]], grad_fn=<AddmmBackward>)\n391 tensor(0.0020)\ntensor([[2.0380],\n        [4.0082],\n        [5.9783]], grad_fn=<AddmmBackward>)\n392 tensor(0.0020)\ntensor([[2.0378],\n        [4.0081],\n        [5.9784]], grad_fn=<AddmmBackward>)\n393 tensor(0.0020)\ntensor([[2.0375],\n        [4.0080],\n        [5.9786]], grad_fn=<AddmmBackward>)\n394 tensor(0.0019)\ntensor([[2.0372],\n        [4.0080],\n        [5.9788]], grad_fn=<AddmmBackward>)\n395 tensor(0.0019)\ntensor([[2.0369],\n        [4.0079],\n        [5.9789]], grad_fn=<AddmmBackward>)\n396 tensor(0.0019)\ntensor([[2.0367],\n        [4.0079],\n        [5.9791]], grad_fn=<AddmmBackward>)\n397 tensor(0.0018)\ntensor([[2.0364],\n        [4.0078],\n        [5.9792]], grad_fn=<AddmmBackward>)\n398 tensor(0.0018)\ntensor([[2.0362],\n        [4.0078],\n        [5.9794]], grad_fn=<AddmmBackward>)\n399 tensor(0.0018)\ntensor([[2.0359],\n        [4.0077],\n        [5.9795]], grad_fn=<AddmmBackward>)\n400 tensor(0.0018)\ntensor([[2.0356],\n        [4.0076],\n        [5.9797]], grad_fn=<AddmmBackward>)\n401 tensor(0.0017)\ntensor([[2.0354],\n        [4.0076],\n        [5.9798]], grad_fn=<AddmmBackward>)\n402 tensor(0.0017)\ntensor([[2.0351],\n        [4.0075],\n        [5.9800]], grad_fn=<AddmmBackward>)\n403 tensor(0.0017)\ntensor([[2.0349],\n        [4.0075],\n        [5.9801]], grad_fn=<AddmmBackward>)\n404 tensor(0.0017)\ntensor([[2.0346],\n        [4.0074],\n        [5.9802]], grad_fn=<AddmmBackward>)\n405 tensor(0.0016)\ntensor([[2.0344],\n        [4.0074],\n        [5.9804]], grad_fn=<AddmmBackward>)\n406 tensor(0.0016)\ntensor([[2.0341],\n        [4.0073],\n        [5.9805]], grad_fn=<AddmmBackward>)\n407 tensor(0.0016)\ntensor([[2.0339],\n        [4.0073],\n        [5.9807]], grad_fn=<AddmmBackward>)\n408 tensor(0.0016)\ntensor([[2.0336],\n        [4.0072],\n        [5.9808]], grad_fn=<AddmmBackward>)\n409 tensor(0.0016)\ntensor([[2.0334],\n        [4.0072],\n        [5.9809]], grad_fn=<AddmmBackward>)\n410 tensor(0.0015)\ntensor([[2.0331],\n        [4.0071],\n        [5.9811]], grad_fn=<AddmmBackward>)\n411 tensor(0.0015)\ntensor([[2.0329],\n        [4.0071],\n        [5.9812]], grad_fn=<AddmmBackward>)\n412 tensor(0.0015)\ntensor([[2.0327],\n        [4.0070],\n        [5.9814]], grad_fn=<AddmmBackward>)\n413 tensor(0.0015)\ntensor([[2.0324],\n        [4.0070],\n        [5.9815]], grad_fn=<AddmmBackward>)\n414 tensor(0.0014)\ntensor([[2.0322],\n        [4.0069],\n        [5.9816]], grad_fn=<AddmmBackward>)\n415 tensor(0.0014)\ntensor([[2.0320],\n        [4.0069],\n        [5.9818]], grad_fn=<AddmmBackward>)\n416 tensor(0.0014)\ntensor([[2.0317],\n        [4.0068],\n        [5.9819]], grad_fn=<AddmmBackward>)\n417 tensor(0.0014)\ntensor([[2.0315],\n        [4.0068],\n        [5.9820]], grad_fn=<AddmmBackward>)\n418 tensor(0.0014)\ntensor([[2.0313],\n        [4.0067],\n        [5.9821]], grad_fn=<AddmmBackward>)\n419 tensor(0.0013)\ntensor([[2.0311],\n        [4.0067],\n        [5.9823]], grad_fn=<AddmmBackward>)\n420 tensor(0.0013)\ntensor([[2.0308],\n        [4.0066],\n        [5.9824]], grad_fn=<AddmmBackward>)\n421 tensor(0.0013)\ntensor([[2.0306],\n        [4.0066],\n        [5.9825]], grad_fn=<AddmmBackward>)\n422 tensor(0.0013)\ntensor([[2.0304],\n        [4.0065],\n        [5.9827]], grad_fn=<AddmmBackward>)\n423 tensor(0.0013)\ntensor([[2.0302],\n        [4.0065],\n        [5.9828]], grad_fn=<AddmmBackward>)\n424 tensor(0.0012)\ntensor([[2.0300],\n        [4.0064],\n        [5.9829]], grad_fn=<AddmmBackward>)\n425 tensor(0.0012)\ntensor([[2.0297],\n        [4.0064],\n        [5.9830]], grad_fn=<AddmmBackward>)\n426 tensor(0.0012)\ntensor([[2.0295],\n        [4.0063],\n        [5.9831]], grad_fn=<AddmmBackward>)\n427 tensor(0.0012)\ntensor([[2.0293],\n        [4.0063],\n        [5.9833]], grad_fn=<AddmmBackward>)\n428 tensor(0.0012)\ntensor([[2.0291],\n        [4.0062],\n        [5.9834]], grad_fn=<AddmmBackward>)\n429 tensor(0.0012)\ntensor([[2.0289],\n        [4.0062],\n        [5.9835]], grad_fn=<AddmmBackward>)\n430 tensor(0.0011)\ntensor([[2.0287],\n        [4.0062],\n        [5.9836]], grad_fn=<AddmmBackward>)\n431 tensor(0.0011)\ntensor([[2.0285],\n        [4.0061],\n        [5.9837]], grad_fn=<AddmmBackward>)\n432 tensor(0.0011)\ntensor([[2.0283],\n        [4.0061],\n        [5.9839]], grad_fn=<AddmmBackward>)\n433 tensor(0.0011)\ntensor([[2.0281],\n        [4.0060],\n        [5.9840]], grad_fn=<AddmmBackward>)\n434 tensor(0.0011)\ntensor([[2.0279],\n        [4.0060],\n        [5.9841]], grad_fn=<AddmmBackward>)\n435 tensor(0.0011)\ntensor([[2.0277],\n        [4.0059],\n        [5.9842]], grad_fn=<AddmmBackward>)\n436 tensor(0.0010)\ntensor([[2.0275],\n        [4.0059],\n        [5.9843]], grad_fn=<AddmmBackward>)\n437 tensor(0.0010)\ntensor([[2.0273],\n        [4.0059],\n        [5.9844]], grad_fn=<AddmmBackward>)\n438 tensor(0.0010)\ntensor([[2.0271],\n        [4.0058],\n        [5.9845]], grad_fn=<AddmmBackward>)\n439 tensor(0.0010)\ntensor([[2.0269],\n        [4.0058],\n        [5.9847]], grad_fn=<AddmmBackward>)\n440 tensor(0.0010)\ntensor([[2.0267],\n        [4.0057],\n        [5.9848]], grad_fn=<AddmmBackward>)\n441 tensor(0.0010)\ntensor([[2.0265],\n        [4.0057],\n        [5.9849]], grad_fn=<AddmmBackward>)\n442 tensor(0.0010)\ntensor([[2.0263],\n        [4.0056],\n        [5.9850]], grad_fn=<AddmmBackward>)\n443 tensor(0.0009)\ntensor([[2.0261],\n        [4.0056],\n        [5.9851]], grad_fn=<AddmmBackward>)\n444 tensor(0.0009)\ntensor([[2.0259],\n        [4.0056],\n        [5.9852]], grad_fn=<AddmmBackward>)\n445 tensor(0.0009)\ntensor([[2.0257],\n        [4.0055],\n        [5.9853]], grad_fn=<AddmmBackward>)\n446 tensor(0.0009)\ntensor([[2.0255],\n        [4.0055],\n        [5.9854]], grad_fn=<AddmmBackward>)\n447 tensor(0.0009)\ntensor([[2.0254],\n        [4.0054],\n        [5.9855]], grad_fn=<AddmmBackward>)\n448 tensor(0.0009)\ntensor([[2.0252],\n        [4.0054],\n        [5.9856]], grad_fn=<AddmmBackward>)\n449 tensor(0.0009)\ntensor([[2.0250],\n        [4.0054],\n        [5.9857]], grad_fn=<AddmmBackward>)\n450 tensor(0.0009)\ntensor([[2.0248],\n        [4.0053],\n        [5.9858]], grad_fn=<AddmmBackward>)\n451 tensor(0.0008)\ntensor([[2.0246],\n        [4.0053],\n        [5.9859]], grad_fn=<AddmmBackward>)\n452 tensor(0.0008)\ntensor([[2.0245],\n        [4.0052],\n        [5.9860]], grad_fn=<AddmmBackward>)\n453 tensor(0.0008)\ntensor([[2.0243],\n        [4.0052],\n        [5.9861]], grad_fn=<AddmmBackward>)\n454 tensor(0.0008)\ntensor([[2.0241],\n        [4.0052],\n        [5.9862]], grad_fn=<AddmmBackward>)\n455 tensor(0.0008)\ntensor([[2.0239],\n        [4.0051],\n        [5.9863]], grad_fn=<AddmmBackward>)\n456 tensor(0.0008)\ntensor([[2.0238],\n        [4.0051],\n        [5.9864]], grad_fn=<AddmmBackward>)\n457 tensor(0.0008)\ntensor([[2.0236],\n        [4.0051],\n        [5.9865]], grad_fn=<AddmmBackward>)\n458 tensor(0.0008)\ntensor([[2.0234],\n        [4.0050],\n        [5.9866]], grad_fn=<AddmmBackward>)\n459 tensor(0.0008)\ntensor([[2.0233],\n        [4.0050],\n        [5.9867]], grad_fn=<AddmmBackward>)\n460 tensor(0.0007)\ntensor([[2.0231],\n        [4.0050],\n        [5.9868]], grad_fn=<AddmmBackward>)\n461 tensor(0.0007)\ntensor([[2.0229],\n        [4.0049],\n        [5.9869]], grad_fn=<AddmmBackward>)\n462 tensor(0.0007)\ntensor([[2.0228],\n        [4.0049],\n        [5.9870]], grad_fn=<AddmmBackward>)\n463 tensor(0.0007)\ntensor([[2.0226],\n        [4.0048],\n        [5.9871]], grad_fn=<AddmmBackward>)\n464 tensor(0.0007)\ntensor([[2.0224],\n        [4.0048],\n        [5.9872]], grad_fn=<AddmmBackward>)\n465 tensor(0.0007)\ntensor([[2.0223],\n        [4.0048],\n        [5.9873]], grad_fn=<AddmmBackward>)\n466 tensor(0.0007)\ntensor([[2.0221],\n        [4.0047],\n        [5.9874]], grad_fn=<AddmmBackward>)\n467 tensor(0.0007)\ntensor([[2.0219],\n        [4.0047],\n        [5.9875]], grad_fn=<AddmmBackward>)\n468 tensor(0.0007)\ntensor([[2.0218],\n        [4.0047],\n        [5.9876]], grad_fn=<AddmmBackward>)\n469 tensor(0.0007)\ntensor([[2.0216],\n        [4.0046],\n        [5.9877]], grad_fn=<AddmmBackward>)\n470 tensor(0.0006)\ntensor([[2.0215],\n        [4.0046],\n        [5.9877]], grad_fn=<AddmmBackward>)\n471 tensor(0.0006)\ntensor([[2.0213],\n        [4.0046],\n        [5.9878]], grad_fn=<AddmmBackward>)\n472 tensor(0.0006)\ntensor([[2.0212],\n        [4.0045],\n        [5.9879]], grad_fn=<AddmmBackward>)\n473 tensor(0.0006)\ntensor([[2.0210],\n        [4.0045],\n        [5.9880]], grad_fn=<AddmmBackward>)\n474 tensor(0.0006)\ntensor([[2.0209],\n        [4.0045],\n        [5.9881]], grad_fn=<AddmmBackward>)\n475 tensor(0.0006)\ntensor([[2.0207],\n        [4.0044],\n        [5.9882]], grad_fn=<AddmmBackward>)\n476 tensor(0.0006)\ntensor([[2.0206],\n        [4.0044],\n        [5.9883]], grad_fn=<AddmmBackward>)\n477 tensor(0.0006)\ntensor([[2.0204],\n        [4.0044],\n        [5.9883]], grad_fn=<AddmmBackward>)\n478 tensor(0.0006)\ntensor([[2.0203],\n        [4.0043],\n        [5.9884]], grad_fn=<AddmmBackward>)\n479 tensor(0.0006)\ntensor([[2.0201],\n        [4.0043],\n        [5.9885]], grad_fn=<AddmmBackward>)\n480 tensor(0.0006)\ntensor([[2.0200],\n        [4.0043],\n        [5.9886]], grad_fn=<AddmmBackward>)\n481 tensor(0.0005)\ntensor([[2.0198],\n        [4.0043],\n        [5.9887]], grad_fn=<AddmmBackward>)\n482 tensor(0.0005)\ntensor([[2.0197],\n        [4.0042],\n        [5.9888]], grad_fn=<AddmmBackward>)\n483 tensor(0.0005)\ntensor([[2.0195],\n        [4.0042],\n        [5.9888]], grad_fn=<AddmmBackward>)\n484 tensor(0.0005)\ntensor([[2.0194],\n        [4.0042],\n        [5.9889]], grad_fn=<AddmmBackward>)\n485 tensor(0.0005)\ntensor([[2.0193],\n        [4.0041],\n        [5.9890]], grad_fn=<AddmmBackward>)\n486 tensor(0.0005)\ntensor([[2.0191],\n        [4.0041],\n        [5.9891]], grad_fn=<AddmmBackward>)\n487 tensor(0.0005)\ntensor([[2.0190],\n        [4.0041],\n        [5.9892]], grad_fn=<AddmmBackward>)\n488 tensor(0.0005)\ntensor([[2.0188],\n        [4.0040],\n        [5.9892]], grad_fn=<AddmmBackward>)\n489 tensor(0.0005)\ntensor([[2.0187],\n        [4.0040],\n        [5.9893]], grad_fn=<AddmmBackward>)\n490 tensor(0.0005)\ntensor([[2.0186],\n        [4.0040],\n        [5.9894]], grad_fn=<AddmmBackward>)\n491 tensor(0.0005)\ntensor([[2.0184],\n        [4.0040],\n        [5.9895]], grad_fn=<AddmmBackward>)\n492 tensor(0.0005)\ntensor([[2.0183],\n        [4.0039],\n        [5.9895]], grad_fn=<AddmmBackward>)\n493 tensor(0.0005)\ntensor([[2.0182],\n        [4.0039],\n        [5.9896]], grad_fn=<AddmmBackward>)\n494 tensor(0.0005)\ntensor([[2.0180],\n        [4.0039],\n        [5.9897]], grad_fn=<AddmmBackward>)\n495 tensor(0.0004)\ntensor([[2.0179],\n        [4.0038],\n        [5.9898]], grad_fn=<AddmmBackward>)\n496 tensor(0.0004)\ntensor([[2.0178],\n        [4.0038],\n        [5.9898]], grad_fn=<AddmmBackward>)\n497 tensor(0.0004)\ntensor([[2.0177],\n        [4.0038],\n        [5.9899]], grad_fn=<AddmmBackward>)\n498 tensor(0.0004)\ntensor([[2.0175],\n        [4.0038],\n        [5.9900]], grad_fn=<AddmmBackward>)\n499 tensor(0.0004)\n"
    }
   ],
   "source": [
    "w_list = []\n",
    "l_list = []\n",
    "\n",
    "for epoch in range(500):\n",
    "    # forward pass\n",
    "    y_pred = linear_model(x_data)\n",
    "    print(y_pred)\n",
    "\n",
    "    # compute loss function\n",
    "    loss = criterion(y_pred, y_data)\n",
    "    print(epoch, loss.data)\n",
    "\n",
    "    # backpropagation and optimiser\n",
    "    optimiser.zero_grad()\n",
    "    loss.backward()\n",
    "    optimiser.step()"
   ]
  },
  {
   "cell_type": "code",
   "execution_count": 37,
   "metadata": {},
   "outputs": [
    {
     "name": "stdout",
     "output_type": "stream",
     "text": "prediction (after training:  4 7.98\n"
    }
   ],
   "source": [
    "print(\"prediction (after training: \", 4, round(linear_model.forward(eval_var).data.item(), 2))"
   ]
  },
  {
   "cell_type": "code",
   "execution_count": null,
   "metadata": {},
   "outputs": [],
   "source": []
  },
  {
   "cell_type": "code",
   "execution_count": null,
   "metadata": {},
   "outputs": [],
   "source": []
  },
  {
   "cell_type": "markdown",
   "metadata": {},
   "source": [
    "https://pytorch.org/tutorials/beginner/blitz/cifar10_tutorial.html#sphx-glr-beginner-blitz-cifar10-tutorial-py"
   ]
  },
  {
   "cell_type": "code",
   "execution_count": null,
   "metadata": {},
   "outputs": [],
   "source": []
  },
  {
   "cell_type": "code",
   "execution_count": null,
   "metadata": {},
   "outputs": [],
   "source": []
  },
  {
   "cell_type": "code",
   "execution_count": null,
   "metadata": {},
   "outputs": [],
   "source": []
  },
  {
   "cell_type": "code",
   "execution_count": null,
   "metadata": {},
   "outputs": [],
   "source": []
  },
  {
   "cell_type": "code",
   "execution_count": null,
   "metadata": {},
   "outputs": [],
   "source": []
  },
  {
   "cell_type": "code",
   "execution_count": null,
   "metadata": {},
   "outputs": [],
   "source": []
  }
 ]
}