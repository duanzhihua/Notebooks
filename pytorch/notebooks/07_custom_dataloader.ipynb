{
 "nbformat": 4,
 "nbformat_minor": 2,
 "metadata": {
  "language_info": {
   "name": "python",
   "codemirror_mode": {
    "name": "ipython",
    "version": 3
   },
   "version": "3.7.6-final"
  },
  "orig_nbformat": 2,
  "file_extension": ".py",
  "mimetype": "text/x-python",
  "name": "python",
  "npconvert_exporter": "python",
  "pygments_lexer": "ipython3",
  "version": 3,
  "kernelspec": {
   "name": "pytorch_notebooks",
   "display_name": "pytorch_notebooks"
  }
 },
 "cells": [
  {
   "cell_type": "markdown",
   "metadata": {},
   "source": [
    "# Custom data loader"
   ]
  },
  {
   "cell_type": "code",
   "execution_count": 1,
   "metadata": {},
   "outputs": [],
   "source": [
    "import torch\n",
    "import torch.nn as nn\n",
    "import torch.nn.functional as F\n",
    "import torch.optim as optim\n",
    "\n",
    "import numpy as np\n",
    "from torch.autograd import Variable\n",
    "from torch.utils.data import DataLoader, Dataset"
   ]
  },
  {
   "cell_type": "code",
   "execution_count": 2,
   "metadata": {},
   "outputs": [],
   "source": [
    "class DiabetesDataset(torch.utils.data.Dataset):\n",
    "\n",
    "    def __init__(self):\n",
    "        super(DiabetesDataset, self).__init__()\n",
    "        xy = np.loadtxt(\"data/diabetes.csv\", delimiter=\",\", dtype=np.float32)\n",
    "        self.len = xy.shape[0]\n",
    "        self.x_data = torch.from_numpy(xy[:, 0:-1])\n",
    "        self.y_data = torch.from_numpy(xy[:, [-1]])\n",
    "\n",
    "    def __getitem__(self, index):\n",
    "        return self.x_data[index], self.y_data[index]\n",
    "\n",
    "    def __len__(self):\n",
    "        return self.len"
   ]
  },
  {
   "cell_type": "code",
   "execution_count": 3,
   "metadata": {},
   "outputs": [],
   "source": [
    "dataset = DiabetesDataset()"
   ]
  },
  {
   "cell_type": "code",
   "execution_count": 6,
   "metadata": {},
   "outputs": [],
   "source": [
    "train_loader = DataLoader(dataset, batch_size=32, shuffle=True, num_workers=2)"
   ]
  },
  {
   "cell_type": "markdown",
   "metadata": {},
   "source": [
    "## Model definition\n"
   ]
  },
  {
   "cell_type": "code",
   "execution_count": 9,
   "metadata": {},
   "outputs": [],
   "source": [
    "class DiabetesPredictionModel(nn.Module):\n",
    "\n",
    "    def __init__(self):\n",
    "        super(DiabetesPredictionModel, self).__init__()\n",
    "\n",
    "        self.l1 = nn.Linear(8, 6)\n",
    "        self.l2 = nn.Linear(6, 4)\n",
    "        self.l3 = nn.Linear(4, 1)\n",
    "        self.sigmoid = nn.Sigmoid()\n",
    "\n",
    "    def forward(self, x):\n",
    "        # NN architecture\n",
    "        # x --- l1 --- sigmoid --- l2 --- sigmoid --- l3 --- sigmoid --- y_hat\n",
    "\n",
    "        out1 = self.sigmoid(self.l1(x))\n",
    "        out2 = self.sigmoid(self.l2(out1))\n",
    "        y_pred = self.sigmoid(self.l3(out2))\n",
    "\n",
    "        return y_pred"
   ]
  },
  {
   "cell_type": "code",
   "execution_count": 11,
   "metadata": {},
   "outputs": [],
   "source": [
    "diabetes_prediction_model = DiabetesPredictionModel()"
   ]
  },
  {
   "cell_type": "markdown",
   "metadata": {},
   "source": [
    "## Loss and Optimiser"
   ]
  },
  {
   "cell_type": "code",
   "execution_count": 12,
   "metadata": {},
   "outputs": [],
   "source": [
    "criterion = nn.BCELoss(size_average=True)"
   ]
  },
  {
   "cell_type": "code",
   "execution_count": 14,
   "metadata": {},
   "outputs": [],
   "source": [
    "learning_rate = 0.1\n",
    "optimiser = optim.SGD(diabetes_prediction_model.parameters(), lr=learning_rate)"
   ]
  },
  {
   "cell_type": "markdown",
   "metadata": {},
   "source": [
    "## Training"
   ]
  },
  {
   "cell_type": "code",
   "execution_count": 16,
   "metadata": {},
   "outputs": [
    {
     "name": "stdout",
     "output_type": "stream",
     "text": "0 0 0.842182993888855\n0 1 0.7863770127296448\n0 2 0.7568399310112\n0 3 0.7208936810493469\n0 4 0.7097887396812439\n0 5 0.7176643013954163\n0 6 0.7116217613220215\n0 7 0.7059764862060547\n0 8 0.7029955387115479\n0 9 0.6965780258178711\n0 10 0.6924525499343872\n0 11 0.6895150542259216\n0 12 0.6830314993858337\n0 13 0.6765130758285522\n0 14 0.7078114151954651\n0 15 0.6781600713729858\n0 16 0.6746430397033691\n0 17 0.6710585355758667\n0 18 0.66220623254776\n0 19 0.6443168520927429\n0 20 0.6605961918830872\n0 21 0.6408753395080566\n0 22 0.6559908986091614\n0 23 0.6117717027664185\n1 0 0.591687798500061\n1 1 0.6214637756347656\n1 2 0.6909410953521729\n1 3 0.6897903680801392\n1 4 0.7170020341873169\n1 5 0.5983550548553467\n1 6 0.732850968837738\n1 7 0.6757897138595581\n1 8 0.6105575561523438\n1 9 0.6621018648147583\n1 10 0.6619400382041931\n1 11 0.6191132664680481\n1 12 0.5860544443130493\n1 13 0.5961658358573914\n1 14 0.6271569132804871\n1 15 0.6793193817138672\n1 16 0.6274148225784302\n1 17 0.6972355842590332\n1 18 0.5933396220207214\n1 19 0.6981059908866882\n1 20 0.6446130275726318\n1 21 0.6614248156547546\n1 22 0.6269792914390564\n1 23 0.6714368462562561\n"
    }
   ],
   "source": [
    "for epoch in range(2):\n",
    "    for i, data in enumerate(train_loader, 0):\n",
    "        inputs, labels = data\n",
    "        inputs, labels = Variable(inputs), Variable(labels)\n",
    "\n",
    "        y_pred = diabetes_prediction_model(inputs)\n",
    "\n",
    "        loss = criterion(y_pred, labels)\n",
    "\n",
    "        print(epoch, i, loss.data.item())\n",
    "\n",
    "        optimiser.zero_grad()\n",
    "        loss.backward()\n",
    "        optimiser.step()\n"
   ]
  },
  {
   "cell_type": "markdown",
   "metadata": {},
   "source": [
    "## Further work\n",
    "* https://stanford.edu/~shervine/blog/pytorch-how-to-generate-data-parallel"
   ]
  },
  {
   "cell_type": "code",
   "execution_count": null,
   "metadata": {},
   "outputs": [],
   "source": []
  }
 ]
}